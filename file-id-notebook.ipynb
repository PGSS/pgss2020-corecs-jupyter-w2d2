{
 "cells": [
  {
   "cell_type": "markdown",
   "metadata": {},
   "source": [
    "# Raw File Bytes\n",
    "\n",
    "Computers handle everything as some sort of number, even though they often display them as something quite different (letters, numbers, colors, etc...). In this Notebook, first we will see first hand the ASCII encodings used in text files (and other textual data). After that we will apply what we've learned from our CSV lesson and use a very handy CSV to identify files that are in a binary format.\n",
    "\n",
    "## Raw text bytes\n",
    "\n",
    "Run the code below and observe the ouput:"
   ]
  },
  {
   "cell_type": "code",
   "execution_count": null,
   "metadata": {},
   "outputs": [],
   "source": [
    "with open('word1.txt', \"rb\") as text_file:\n",
    "    \n",
    "    for i in range(1, 5):\n",
    "    \n",
    "        byte = text_file.read(1)\n",
    "    \n",
    "        if( byte == False ):\n",
    "            break\n",
    "    \n",
    "        print(\"0x\" + byte.hex())"
   ]
  },
  {
   "cell_type": "markdown",
   "metadata": {},
   "source": [
    "These numbers are pretty close to how the computer understands the data itself. Knowing that they are text data, do you remember the encoding that most commonly represents text data?\n",
    "\n",
    "Try adding a line to the code above at the very end:\n",
    "\n",
    "`print(byte)`\n",
    "\n",
    "What happens?\n",
    "\n",
    "First, the ASCII value in hexadecimal number base is printed: \"0x6e\", and then the actual character/letter as defined in the ASCII encoding \"n\". The same thing happens for the remaining 3 letters. The ordinariness of this file can be confirmed by examining it in GitHub [here](https://github.com/syreal17/pgss2020-corecs-jupyter-w2d2/blob/master/word1.txt).\n",
    "\n",
    "This can also be confirmed by using a Terminal tool from Python as the code below demonstrates:"
   ]
  },
  {
   "cell_type": "code",
   "execution_count": null,
   "metadata": {},
   "outputs": [],
   "source": [
    "import os\n",
    "\n",
    "# This invokes a command or program from the underlying operating system's Terminal\n",
    "# Source: https://stackoverflow.com/questions/3503879/assign-output-of-os-system-to-a-variable-and-prevent-it-from-being-displayed-on\n",
    "os.popen('cat word1.txt').read()"
   ]
  },
  {
   "cell_type": "markdown",
   "metadata": {},
   "source": [
    "## Binary (non-textual) bytes\n",
    "\n",
    "Many other files are not text at all and many file types have their own structure that has been perfected for a particular task. One common aspect between binary files is that they begin with a special byte signature that helps programs know whether this file is meant for them or not. Typically, this file signature is called the \"magic bytes\". Databases of these magic bytes are largely informal but on-the-whole pretty good. I have assembled our own CSV of magic bytes called `file-id-magic.csv`. Can you use this CSV in conjuction with Python to identify the unknown image files here called `blob1`, `blob2`, `blob3`? NOTE: The easiest way to solve this Challenge is not to fully automate it, but to just automate the hard parts. HINT: Just look at the first two bytes of each `blob`. This is all that is needed to identify them successfully! HINT2, use Ctrl-F while viewing [`file-id-magic.csv`](https://github.com/syreal17/pgss2020-corecs-jupyter-w2d2/blob/master/file-id-magic.csv) on GitHub."
   ]
  },
  {
   "cell_type": "code",
   "execution_count": null,
   "metadata": {},
   "outputs": [],
   "source": [
    "# Put code here for reading just enough bytes to identify the files blob1, blob2 and blob3\n",
    "\n"
   ]
  },
  {
   "cell_type": "markdown",
   "metadata": {},
   "source": [
    "After you figure out what the blob is, download it from GitHub and open it in a suitable program. (NOTE: Unix based system automatically read the magic bytes and ignore the filename extension)\n",
    "\n",
    "## Conclusion\n",
    "\n",
    "I call this strategy \"half-automation\". There is plenty to learn from fully automating this process, but that can wait for another day. I hope you this Notebook showed a useful strategy and a few new ways that Python can work for you!"
   ]
  }
 ],
 "metadata": {
  "kernelspec": {
   "display_name": "Python 3",
   "language": "python",
   "name": "python3"
  },
  "language_info": {
   "codemirror_mode": {
    "name": "ipython",
    "version": 3
   },
   "file_extension": ".py",
   "mimetype": "text/x-python",
   "name": "python",
   "nbconvert_exporter": "python",
   "pygments_lexer": "ipython3",
   "version": "3.7.6"
  }
 },
 "nbformat": 4,
 "nbformat_minor": 4
}
