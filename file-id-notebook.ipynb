{
 "cells": [
  {
   "cell_type": "markdown",
   "metadata": {},
   "source": [
    "# Raw File Bytes\n",
    "\n",
    "## Raw text bytes\n",
    "\n",
    "Run the code below and observe the ouput:"
   ]
  },
  {
   "cell_type": "code",
   "execution_count": 10,
   "metadata": {},
   "outputs": [
    {
     "name": "stdout",
     "output_type": "stream",
     "text": [
      "0x6e\n",
      "0x65\n",
      "0x77\n",
      "0x74\n"
     ]
    }
   ],
   "source": [
    "with open('word1.txt', \"rb\") as text_file:\n",
    "    \n",
    "    for i in range(1, 5):\n",
    "    \n",
    "        byte = text_file.read(1)\n",
    "    \n",
    "        if( byte == False ):\n",
    "            break\n",
    "    \n",
    "        print(\"0x\" + byte.hex())"
   ]
  },
  {
   "cell_type": "markdown",
   "metadata": {},
   "source": [
    "These numbers are pretty close to how the computer views the data itself. Knowing that they are text data, do you remember the encoding that most commonly represent text data?\n",
    "\n",
    "Try adding a line to the code above at the very end:\n",
    "\n",
    "`print(byte)`\n",
    "\n",
    "What happens?\n",
    "\n",
    "First: the ASCII value in hexadecimal number base is printed \"0x6e\" and then the actual character as defined in the ASCII encoding \"n\". And that happens for each letter.\n",
    "\n"
   ]
  },
  {
   "cell_type": "code",
   "execution_count": null,
   "metadata": {},
   "outputs": [],
   "source": []
  }
 ],
 "metadata": {
  "kernelspec": {
   "display_name": "Python 3",
   "language": "python",
   "name": "python3"
  },
  "language_info": {
   "codemirror_mode": {
    "name": "ipython",
    "version": 3
   },
   "file_extension": ".py",
   "mimetype": "text/x-python",
   "name": "python",
   "nbconvert_exporter": "python",
   "pygments_lexer": "ipython3",
   "version": "3.7.6"
  }
 },
 "nbformat": 4,
 "nbformat_minor": 4
}
